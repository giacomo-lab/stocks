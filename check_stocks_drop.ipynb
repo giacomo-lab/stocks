{
 "cells": [
  {
   "cell_type": "code",
   "execution_count": 2,
   "metadata": {},
   "outputs": [],
   "source": [
    "import yfinance as yf\n"
   ]
  },
  {
   "cell_type": "code",
   "execution_count": 15,
   "metadata": {},
   "outputs": [
    {
     "name": "stdout",
     "output_type": "stream",
     "text": [
      "The stock with the biggest loss is ADBE with a loss of -12.55\n"
     ]
    }
   ],
   "source": [
    "def get_stock_data(tickers):\n",
    "    data = yf.download(tickers, period='2d', progress=False)\n",
    "    for ticker in tickers:\n",
    "        previous_close = data['Close', ticker].shift(1)\n",
    "        price_change = data['Close', ticker] - previous_close\n",
    "        data['Price Change', ticker] = price_change\n",
    "    return data\n",
    "\n",
    "def highlight_biggest_loss(data):\n",
    "    biggest_loss = data['Price Change'].min().min()\n",
    "    biggest_loss_ticker = data['Price Change'].min().idxmin()\n",
    "    print(f\"The stock with the biggest loss is {biggest_loss_ticker} with a loss of {biggest_loss:.2f}\")\n",
    "\n",
    "# Specify the list of tickers\n",
    "tickers = ['AAPL', 'MSFT', 'GOOGL', 'AMZN', 'NVDA', 'META', \n",
    "          'TSLA', 'LLY', 'V', 'TSM', 'JNJ', 'JPM', 'NVO', \n",
    "          'UNH', 'PG', 'HD', 'IDCBY', 'LVMUY', 'MA', 'DIS', \n",
    "          'PYPL', 'ADBE']\n",
    "\n",
    "# Get the stock data\n",
    "stock_data = get_stock_data(tickers)\n",
    "\n",
    "# Highlight the stock with the biggest loss\n",
    "highlight_biggest_loss(stock_data)\n"
   ]
  },
  {
   "cell_type": "code",
   "execution_count": 18,
   "metadata": {},
   "outputs": [
    {
     "data": {
      "text/plain": [
       "AAPL      0.914993\n",
       "MSFT     -0.209991\n",
       "GOOGL    -0.610001\n",
       "AMZN      0.139999\n",
       "NVDA      3.729980\n",
       "META     -0.554993\n",
       "TSLA     -7.159988\n",
       "LLY      13.119995\n",
       "V         0.320007\n",
       "TSM      -0.379997\n",
       "JNJ      -0.920013\n",
       "JPM      -0.160004\n",
       "NVO       1.580002\n",
       "UNH       1.115051\n",
       "PG        1.970001\n",
       "HD       -0.740021\n",
       "IDCBY     0.040000\n",
       "LVMUY    -0.240005\n",
       "MA       -1.239990\n",
       "DIS       0.290001\n",
       "PYPL      0.040001\n",
       "ADBE    -12.649963\n",
       "dtype: float64"
      ]
     },
     "execution_count": 18,
     "metadata": {},
     "output_type": "execute_result"
    }
   ],
   "source": [
    "data = get_stock_data(tickers)\n",
    "data['Price Change'].min()"
   ]
  }
 ],
 "metadata": {
  "kernelspec": {
   "display_name": "stocks",
   "language": "python",
   "name": "python3"
  },
  "language_info": {
   "codemirror_mode": {
    "name": "ipython",
    "version": 3
   },
   "file_extension": ".py",
   "mimetype": "text/x-python",
   "name": "python",
   "nbconvert_exporter": "python",
   "pygments_lexer": "ipython3",
   "version": "3.9.7"
  }
 },
 "nbformat": 4,
 "nbformat_minor": 2
}
