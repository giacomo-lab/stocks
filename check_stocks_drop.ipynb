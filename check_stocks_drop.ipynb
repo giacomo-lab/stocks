{
 "cells": [
  {
   "cell_type": "code",
   "execution_count": 1,
   "metadata": {},
   "outputs": [],
   "source": [
    "import yfinance as yf\n"
   ]
  },
  {
   "cell_type": "code",
   "execution_count": 2,
   "metadata": {},
   "outputs": [
    {
     "name": "stdout",
     "output_type": "stream",
     "text": [
      "The stock with the biggest loss is AAPL with a loss of -0.08\n"
     ]
    }
   ],
   "source": [
    "def get_stock_data(tickers):\n",
    "    data = yf.download(tickers, period='2d', progress=False)\n",
    "    for ticker in tickers:\n",
    "        previous_close = data['Close', ticker].shift(1)\n",
    "        price_change = (data['Close', ticker] - previous_close) / previous_close * 100\n",
    "        data['Price Change', ticker] = price_change\n",
    "    return data\n",
    "\n",
    "def highlight_biggest_loss(data):\n",
    "    biggest_loss = data['Price Change'].min().min()\n",
    "    biggest_loss_ticker = data['Price Change'].min().idxmin()\n",
    "    print(f\"The stock with the biggest loss is {biggest_loss_ticker} with a loss of {biggest_loss:.2f}\")\n",
    "\n",
    "# Specify the list of tickers\n",
    "tickers = ['AAPL', 'MSFT', 'GOOGL', 'AMZN', 'NVDA', 'META', \n",
    "          'TSLA', 'LLY', 'V', 'TSM', 'JNJ', 'JPM', 'NVO', \n",
    "          'UNH', 'PG', 'HD', 'IDCBY', 'LVMUY', 'MA', 'DIS', \n",
    "          'PYPL', 'ADBE']\n",
    "\n",
    "# Get the stock data\n",
    "stock_data = get_stock_data(tickers)\n",
    "\n",
    "# Highlight the stock with the biggest loss\n",
    "highlight_biggest_loss(stock_data)\n"
   ]
  },
  {
   "cell_type": "code",
   "execution_count": 3,
   "metadata": {},
   "outputs": [
    {
     "data": {
      "text/plain": [
       "AAPL    -0.076995\n",
       "HD       0.088911\n",
       "PG       0.243201\n",
       "LLY      0.313916\n",
       "PYPL     0.518302\n",
       "JPM      0.570397\n",
       "ADBE     0.684498\n",
       "UNH      0.765610\n",
       "MSFT     0.787873\n",
       "DIS      0.821738\n",
       "V        0.945130\n",
       "MA       0.951243\n",
       "JNJ      1.024331\n",
       "AMZN     1.130687\n",
       "META     1.377118\n",
       "GOOGL    1.503543\n",
       "LVMUY    1.589662\n",
       "NVDA     1.827027\n",
       "NVO      2.141946\n",
       "IDCBY    2.173911\n",
       "TSM      2.508999\n",
       "TSLA     2.978069\n",
       "dtype: float64"
      ]
     },
     "execution_count": 3,
     "metadata": {},
     "output_type": "execute_result"
    }
   ],
   "source": [
    "data = get_stock_data(tickers)\n",
    "data['Price Change'].min().sort_values()"
   ]
  }
 ],
 "metadata": {
  "kernelspec": {
   "display_name": "stocks",
   "language": "python",
   "name": "python3"
  },
  "language_info": {
   "codemirror_mode": {
    "name": "ipython",
    "version": 3
   },
   "file_extension": ".py",
   "mimetype": "text/x-python",
   "name": "python",
   "nbconvert_exporter": "python",
   "pygments_lexer": "ipython3",
   "version": "3.9.7"
  }
 },
 "nbformat": 4,
 "nbformat_minor": 2
}
