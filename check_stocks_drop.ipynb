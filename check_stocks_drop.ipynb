{
 "cells": [
  {
   "cell_type": "code",
   "execution_count": 1,
   "metadata": {},
   "outputs": [],
   "source": [
    "import yfinance as yf\n"
   ]
  },
  {
   "cell_type": "code",
   "execution_count": 2,
   "metadata": {},
   "outputs": [
    {
     "name": "stderr",
     "output_type": "stream",
     "text": [
      "\n",
      "22 Failed downloads:\n",
      "['MA']: OperationalError('database is locked')\n",
      "['META', 'NVDA', 'MSFT', 'UNH', 'NVO', 'AAPL', 'HD', 'GOOGL', 'AMZN', 'TSLA', 'JNJ', 'PYPL', 'TSM', 'IDCBY', 'LVMUY', 'ADBE', 'V', 'JPM', 'DIS', 'LLY', 'PG']: YFInvalidPeriodError(\"%ticker%: Period '2d' is invalid, must be one of ['1d', '5d', '1mo', '3mo', '6mo', '1y', '2y', '5y', '10y', 'ytd', 'max']\")\n"
     ]
    },
    {
     "name": "stdout",
     "output_type": "stream",
     "text": [
      "The stock with the biggest loss is nan with a loss of nan\n"
     ]
    },
    {
     "name": "stderr",
     "output_type": "stream",
     "text": [
      "/var/folders/l9/zgzp9csn5n58csfc72flk5nw0000gn/T/ipykernel_28573/331248969.py:11: FutureWarning: The behavior of Series.idxmin with all-NA values, or any-NA and skipna=False, is deprecated. In a future version this will raise ValueError\n",
      "  biggest_loss_ticker = data['Price Change'].min().idxmin()\n"
     ]
    }
   ],
   "source": [
    "def get_stock_data(tickers):\n",
    "    data = yf.download(tickers, period='2d', progress=False)\n",
    "    for ticker in tickers:\n",
    "        previous_close = data['Close', ticker].shift(1)\n",
    "        price_change = (data['Close', ticker] - previous_close) / previous_close * 100\n",
    "        data['Price Change', ticker] = price_change\n",
    "    return data\n",
    "\n",
    "def highlight_biggest_loss(data):\n",
    "    biggest_loss = data['Price Change'].min().min()\n",
    "    biggest_loss_ticker = data['Price Change'].min().idxmin()\n",
    "    print(f\"The stock with the biggest loss is {biggest_loss_ticker} with a loss of {biggest_loss:.2f}\")\n",
    "\n",
    "# Specify the list of tickers\n",
    "tickers = ['AAPL', 'MSFT', 'GOOGL', 'AMZN', 'NVDA', 'META', \n",
    "          'TSLA', 'LLY', 'V', 'TSM', 'JNJ', 'JPM', 'NVO', \n",
    "          'UNH', 'PG', 'HD', 'IDCBY', 'LVMUY', 'MA', 'DIS', \n",
    "          'PYPL', 'ADBE']\n",
    "\n",
    "# Get the stock data\n",
    "stock_data = get_stock_data(tickers)\n",
    "\n",
    "# Highlight the stock with the biggest loss\n",
    "highlight_biggest_loss(stock_data)\n"
   ]
  },
  {
   "cell_type": "code",
   "execution_count": 3,
   "metadata": {},
   "outputs": [
    {
     "name": "stderr",
     "output_type": "stream",
     "text": [
      "\n",
      "22 Failed downloads:\n",
      "['NVDA', 'MSFT', 'AAPL', 'UNH', 'NVO', 'HD', 'JNJ', 'META', 'TSLA', 'MA', 'IDCBY', 'TSM', 'AMZN', 'DIS', 'LVMUY', 'PYPL', 'PG', 'GOOGL', 'ADBE', 'V', 'LLY', 'JPM']: YFInvalidPeriodError(\"%ticker%: Period '2d' is invalid, must be one of ['1d', '5d', '1mo', '3mo', '6mo', '1y', '2y', '5y', '10y', 'ytd', 'max']\")\n"
     ]
    },
    {
     "data": {
      "text/plain": [
       "Ticker\n",
       "AAPL    NaN\n",
       "MSFT    NaN\n",
       "GOOGL   NaN\n",
       "AMZN    NaN\n",
       "NVDA    NaN\n",
       "META    NaN\n",
       "TSLA    NaN\n",
       "LLY     NaN\n",
       "V       NaN\n",
       "TSM     NaN\n",
       "JNJ     NaN\n",
       "JPM     NaN\n",
       "NVO     NaN\n",
       "UNH     NaN\n",
       "PG      NaN\n",
       "HD      NaN\n",
       "IDCBY   NaN\n",
       "LVMUY   NaN\n",
       "MA      NaN\n",
       "DIS     NaN\n",
       "PYPL    NaN\n",
       "ADBE    NaN\n",
       "dtype: float64"
      ]
     },
     "execution_count": 3,
     "metadata": {},
     "output_type": "execute_result"
    }
   ],
   "source": [
    "data = get_stock_data(tickers)\n",
    "data['Price Change'].min().sort_values()"
   ]
  }
 ],
 "metadata": {
  "kernelspec": {
   "display_name": "stocks",
   "language": "python",
   "name": "python3"
  },
  "language_info": {
   "codemirror_mode": {
    "name": "ipython",
    "version": 3
   },
   "file_extension": ".py",
   "mimetype": "text/x-python",
   "name": "python",
   "nbconvert_exporter": "python",
   "pygments_lexer": "ipython3",
   "version": "3.9.7"
  }
 },
 "nbformat": 4,
 "nbformat_minor": 2
}
